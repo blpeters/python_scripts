{
 "cells": [
  {
   "cell_type": "markdown",
   "id": "012fc4d6-3cd2-4dde-91e2-061b33232161",
   "metadata": {},
   "source": [
    "### Looking to summarize the recreational visitors to all NPS lands in the northeast region since the year 2000."
   ]
  },
  {
   "cell_type": "markdown",
   "id": "2b417b42-9094-4e7b-8e33-a6c33ff6a4be",
   "metadata": {},
   "source": [
    "Start by importing the csv file I obtained from the NPS STATS website.\n",
    "\n",
    "It's a summary of all NPS lands from the northeastern region and the visitor data since 2000."
   ]
  },
  {
   "cell_type": "code",
   "execution_count": 12,
   "id": "d19dbf46-20a1-4db6-9d08-31995e420084",
   "metadata": {},
   "outputs": [],
   "source": [
    "import pandas as pd\n",
    "df = pd.read_csv(r\"C:\\Users\\brett\\OneDrive\\Documents\\ArcGIS\\Projects\\2024_NE_NationalParkLands_MostVisitedSince2000\\data sources\\NPSLandsRecreationVisitsSince2000_NortheastRegion.csv\", engine = \"python\")"
   ]
  },
  {
   "cell_type": "code",
   "execution_count": 14,
   "id": "d40034e9-8159-4841-9fd7-2d5304fb604b",
   "metadata": {},
   "outputs": [
    {
     "data": {
      "text/html": [
       "<div>\n",
       "<style scoped>\n",
       "    .dataframe tbody tr th:only-of-type {\n",
       "        vertical-align: middle;\n",
       "    }\n",
       "\n",
       "    .dataframe tbody tr th {\n",
       "        vertical-align: top;\n",
       "    }\n",
       "\n",
       "    .dataframe thead th {\n",
       "        text-align: right;\n",
       "    }\n",
       "</style>\n",
       "<table border=\"1\" class=\"dataframe\">\n",
       "  <thead>\n",
       "    <tr style=\"text-align: right;\">\n",
       "      <th></th>\n",
       "      <th>ParkName</th>\n",
       "      <th>UnitCode</th>\n",
       "      <th>ParkType</th>\n",
       "      <th>Region</th>\n",
       "      <th>State</th>\n",
       "      <th>Year</th>\n",
       "      <th>Month</th>\n",
       "      <th>RecreationVisits</th>\n",
       "      <th>NonRecreationVisits</th>\n",
       "      <th>RecreationHours</th>\n",
       "      <th>...</th>\n",
       "      <th>NonRecreationVisitsTotal</th>\n",
       "      <th>RecreationHoursTotal</th>\n",
       "      <th>NonRecreationHoursTotal</th>\n",
       "      <th>ConcessionerLodgingTotal</th>\n",
       "      <th>ConcessionerCampingTotal</th>\n",
       "      <th>TentCampersTotal</th>\n",
       "      <th>RVCampersTotal</th>\n",
       "      <th>BackcountryTotal</th>\n",
       "      <th>NonRecreationOvernightStaysTotal</th>\n",
       "      <th>MiscellaneousOvernightStaysTotal</th>\n",
       "    </tr>\n",
       "  </thead>\n",
       "  <tbody>\n",
       "    <tr>\n",
       "      <th>0</th>\n",
       "      <td>Acadia NP</td>\n",
       "      <td>ACAD</td>\n",
       "      <td>National Park</td>\n",
       "      <td>Northeast</td>\n",
       "      <td>ME</td>\n",
       "      <td>2000</td>\n",
       "      <td>1</td>\n",
       "      <td>22,500</td>\n",
       "      <td>20,373</td>\n",
       "      <td>148,500</td>\n",
       "      <td>...</td>\n",
       "      <td>252,576</td>\n",
       "      <td>13,230,679</td>\n",
       "      <td>252,576</td>\n",
       "      <td>0</td>\n",
       "      <td>0</td>\n",
       "      <td>114,033</td>\n",
       "      <td>22,692</td>\n",
       "      <td>0</td>\n",
       "      <td>0</td>\n",
       "      <td>9,747</td>\n",
       "    </tr>\n",
       "    <tr>\n",
       "      <th>1</th>\n",
       "      <td>Acadia NP</td>\n",
       "      <td>ACAD</td>\n",
       "      <td>National Park</td>\n",
       "      <td>Northeast</td>\n",
       "      <td>ME</td>\n",
       "      <td>2000</td>\n",
       "      <td>2</td>\n",
       "      <td>23,848</td>\n",
       "      <td>19,923</td>\n",
       "      <td>157,397</td>\n",
       "      <td>...</td>\n",
       "      <td>252,576</td>\n",
       "      <td>13,230,679</td>\n",
       "      <td>252,576</td>\n",
       "      <td>0</td>\n",
       "      <td>0</td>\n",
       "      <td>114,033</td>\n",
       "      <td>22,692</td>\n",
       "      <td>0</td>\n",
       "      <td>0</td>\n",
       "      <td>9,747</td>\n",
       "    </tr>\n",
       "    <tr>\n",
       "      <th>2</th>\n",
       "      <td>Acadia NP</td>\n",
       "      <td>ACAD</td>\n",
       "      <td>National Park</td>\n",
       "      <td>Northeast</td>\n",
       "      <td>ME</td>\n",
       "      <td>2000</td>\n",
       "      <td>3</td>\n",
       "      <td>35,423</td>\n",
       "      <td>20,373</td>\n",
       "      <td>233,792</td>\n",
       "      <td>...</td>\n",
       "      <td>252,576</td>\n",
       "      <td>13,230,679</td>\n",
       "      <td>252,576</td>\n",
       "      <td>0</td>\n",
       "      <td>0</td>\n",
       "      <td>114,033</td>\n",
       "      <td>22,692</td>\n",
       "      <td>0</td>\n",
       "      <td>0</td>\n",
       "      <td>9,747</td>\n",
       "    </tr>\n",
       "    <tr>\n",
       "      <th>3</th>\n",
       "      <td>Acadia NP</td>\n",
       "      <td>ACAD</td>\n",
       "      <td>National Park</td>\n",
       "      <td>Northeast</td>\n",
       "      <td>ME</td>\n",
       "      <td>2000</td>\n",
       "      <td>4</td>\n",
       "      <td>78,555</td>\n",
       "      <td>21,723</td>\n",
       "      <td>455,619</td>\n",
       "      <td>...</td>\n",
       "      <td>252,576</td>\n",
       "      <td>13,230,679</td>\n",
       "      <td>252,576</td>\n",
       "      <td>0</td>\n",
       "      <td>0</td>\n",
       "      <td>114,033</td>\n",
       "      <td>22,692</td>\n",
       "      <td>0</td>\n",
       "      <td>0</td>\n",
       "      <td>9,747</td>\n",
       "    </tr>\n",
       "    <tr>\n",
       "      <th>4</th>\n",
       "      <td>Acadia NP</td>\n",
       "      <td>ACAD</td>\n",
       "      <td>National Park</td>\n",
       "      <td>Northeast</td>\n",
       "      <td>ME</td>\n",
       "      <td>2000</td>\n",
       "      <td>5</td>\n",
       "      <td>166,456</td>\n",
       "      <td>21,923</td>\n",
       "      <td>965,445</td>\n",
       "      <td>...</td>\n",
       "      <td>252,576</td>\n",
       "      <td>13,230,679</td>\n",
       "      <td>252,576</td>\n",
       "      <td>0</td>\n",
       "      <td>0</td>\n",
       "      <td>114,033</td>\n",
       "      <td>22,692</td>\n",
       "      <td>0</td>\n",
       "      <td>0</td>\n",
       "      <td>9,747</td>\n",
       "    </tr>\n",
       "  </tbody>\n",
       "</table>\n",
       "<p>5 rows × 35 columns</p>\n",
       "</div>"
      ],
      "text/plain": [
       "    ParkName UnitCode       ParkType      Region State  Year  Month  \\\n",
       "0  Acadia NP     ACAD  National Park  Northeast     ME  2000      1   \n",
       "1  Acadia NP     ACAD  National Park  Northeast     ME  2000      2   \n",
       "2  Acadia NP     ACAD  National Park  Northeast     ME  2000      3   \n",
       "3  Acadia NP     ACAD  National Park  Northeast     ME  2000      4   \n",
       "4  Acadia NP     ACAD  National Park  Northeast     ME  2000      5   \n",
       "\n",
       "  RecreationVisits NonRecreationVisits RecreationHours  ...  \\\n",
       "0           22,500              20,373         148,500  ...   \n",
       "1           23,848              19,923         157,397  ...   \n",
       "2           35,423              20,373         233,792  ...   \n",
       "3           78,555              21,723         455,619  ...   \n",
       "4          166,456              21,923         965,445  ...   \n",
       "\n",
       "  NonRecreationVisitsTotal RecreationHoursTotal NonRecreationHoursTotal  \\\n",
       "0                  252,576           13,230,679                 252,576   \n",
       "1                  252,576           13,230,679                 252,576   \n",
       "2                  252,576           13,230,679                 252,576   \n",
       "3                  252,576           13,230,679                 252,576   \n",
       "4                  252,576           13,230,679                 252,576   \n",
       "\n",
       "  ConcessionerLodgingTotal ConcessionerCampingTotal TentCampersTotal  \\\n",
       "0                        0                        0          114,033   \n",
       "1                        0                        0          114,033   \n",
       "2                        0                        0          114,033   \n",
       "3                        0                        0          114,033   \n",
       "4                        0                        0          114,033   \n",
       "\n",
       "   RVCampersTotal BackcountryTotal NonRecreationOvernightStaysTotal  \\\n",
       "0          22,692                0                                0   \n",
       "1          22,692                0                                0   \n",
       "2          22,692                0                                0   \n",
       "3          22,692                0                                0   \n",
       "4          22,692                0                                0   \n",
       "\n",
       "  MiscellaneousOvernightStaysTotal  \n",
       "0                            9,747  \n",
       "1                            9,747  \n",
       "2                            9,747  \n",
       "3                            9,747  \n",
       "4                            9,747  \n",
       "\n",
       "[5 rows x 35 columns]"
      ]
     },
     "execution_count": 14,
     "metadata": {},
     "output_type": "execute_result"
    }
   ],
   "source": [
    "df.head()"
   ]
  },
  {
   "cell_type": "code",
   "execution_count": 49,
   "id": "f03cc6f1-0aad-4bf4-991f-a537bcee51dc",
   "metadata": {},
   "outputs": [
    {
     "data": {
      "text/plain": [
       "ParkName               object\n",
       "UnitCode               object\n",
       "ParkType               object\n",
       "Region                 object\n",
       "State                  object\n",
       "Year                    int64\n",
       "Month                   int64\n",
       "RecreationVisits       object\n",
       "NonRecreationVisits    object\n",
       "RecreationHours        object\n",
       "dtype: object"
      ]
     },
     "execution_count": 49,
     "metadata": {},
     "output_type": "execute_result"
    }
   ],
   "source": [
    "df.dtypes.head(10)"
   ]
  },
  {
   "cell_type": "markdown",
   "id": "4f943e41-3f27-41e9-b788-3152443337aa",
   "metadata": {},
   "source": [
    "We need the RecreationVisits column to be an integer in order to sum up the total visits\n",
    "\n",
    "first, remove the commas, then convert to int:"
   ]
  },
  {
   "cell_type": "code",
   "execution_count": 54,
   "id": "28dabdd4-906d-4990-aa9a-c2125a4cb31e",
   "metadata": {},
   "outputs": [],
   "source": [
    "df[\"RecreationVisits\"] = df[\"RecreationVisits\"].str.replace(\",\",\"\").astype('int64')"
   ]
  },
  {
   "cell_type": "code",
   "execution_count": 58,
   "id": "b79048db-acf5-4d48-841e-34788edab6ce",
   "metadata": {},
   "outputs": [
    {
     "data": {
      "text/html": [
       "<div>\n",
       "<style scoped>\n",
       "    .dataframe tbody tr th:only-of-type {\n",
       "        vertical-align: middle;\n",
       "    }\n",
       "\n",
       "    .dataframe tbody tr th {\n",
       "        vertical-align: top;\n",
       "    }\n",
       "\n",
       "    .dataframe thead th {\n",
       "        text-align: right;\n",
       "    }\n",
       "</style>\n",
       "<table border=\"1\" class=\"dataframe\">\n",
       "  <thead>\n",
       "    <tr style=\"text-align: right;\">\n",
       "      <th></th>\n",
       "      <th>ParkName</th>\n",
       "      <th>UnitCode</th>\n",
       "      <th>ParkType</th>\n",
       "      <th>Region</th>\n",
       "      <th>State</th>\n",
       "      <th>Year</th>\n",
       "      <th>Month</th>\n",
       "      <th>RecreationVisits</th>\n",
       "      <th>NonRecreationVisits</th>\n",
       "      <th>RecreationHours</th>\n",
       "      <th>...</th>\n",
       "      <th>NonRecreationVisitsTotal</th>\n",
       "      <th>RecreationHoursTotal</th>\n",
       "      <th>NonRecreationHoursTotal</th>\n",
       "      <th>ConcessionerLodgingTotal</th>\n",
       "      <th>ConcessionerCampingTotal</th>\n",
       "      <th>TentCampersTotal</th>\n",
       "      <th>RVCampersTotal</th>\n",
       "      <th>BackcountryTotal</th>\n",
       "      <th>NonRecreationOvernightStaysTotal</th>\n",
       "      <th>MiscellaneousOvernightStaysTotal</th>\n",
       "    </tr>\n",
       "  </thead>\n",
       "  <tbody>\n",
       "    <tr>\n",
       "      <th>0</th>\n",
       "      <td>Acadia NP</td>\n",
       "      <td>ACAD</td>\n",
       "      <td>National Park</td>\n",
       "      <td>Northeast</td>\n",
       "      <td>ME</td>\n",
       "      <td>2000</td>\n",
       "      <td>1</td>\n",
       "      <td>22500</td>\n",
       "      <td>20,373</td>\n",
       "      <td>148,500</td>\n",
       "      <td>...</td>\n",
       "      <td>252,576</td>\n",
       "      <td>13,230,679</td>\n",
       "      <td>252,576</td>\n",
       "      <td>0</td>\n",
       "      <td>0</td>\n",
       "      <td>114,033</td>\n",
       "      <td>22,692</td>\n",
       "      <td>0</td>\n",
       "      <td>0</td>\n",
       "      <td>9,747</td>\n",
       "    </tr>\n",
       "    <tr>\n",
       "      <th>1</th>\n",
       "      <td>Acadia NP</td>\n",
       "      <td>ACAD</td>\n",
       "      <td>National Park</td>\n",
       "      <td>Northeast</td>\n",
       "      <td>ME</td>\n",
       "      <td>2000</td>\n",
       "      <td>2</td>\n",
       "      <td>23848</td>\n",
       "      <td>19,923</td>\n",
       "      <td>157,397</td>\n",
       "      <td>...</td>\n",
       "      <td>252,576</td>\n",
       "      <td>13,230,679</td>\n",
       "      <td>252,576</td>\n",
       "      <td>0</td>\n",
       "      <td>0</td>\n",
       "      <td>114,033</td>\n",
       "      <td>22,692</td>\n",
       "      <td>0</td>\n",
       "      <td>0</td>\n",
       "      <td>9,747</td>\n",
       "    </tr>\n",
       "  </tbody>\n",
       "</table>\n",
       "<p>2 rows × 35 columns</p>\n",
       "</div>"
      ],
      "text/plain": [
       "    ParkName UnitCode       ParkType      Region State  Year  Month  \\\n",
       "0  Acadia NP     ACAD  National Park  Northeast     ME  2000      1   \n",
       "1  Acadia NP     ACAD  National Park  Northeast     ME  2000      2   \n",
       "\n",
       "   RecreationVisits NonRecreationVisits RecreationHours  ...  \\\n",
       "0             22500              20,373         148,500  ...   \n",
       "1             23848              19,923         157,397  ...   \n",
       "\n",
       "  NonRecreationVisitsTotal RecreationHoursTotal NonRecreationHoursTotal  \\\n",
       "0                  252,576           13,230,679                 252,576   \n",
       "1                  252,576           13,230,679                 252,576   \n",
       "\n",
       "  ConcessionerLodgingTotal ConcessionerCampingTotal TentCampersTotal  \\\n",
       "0                        0                        0          114,033   \n",
       "1                        0                        0          114,033   \n",
       "\n",
       "   RVCampersTotal BackcountryTotal NonRecreationOvernightStaysTotal  \\\n",
       "0          22,692                0                                0   \n",
       "1          22,692                0                                0   \n",
       "\n",
       "  MiscellaneousOvernightStaysTotal  \n",
       "0                            9,747  \n",
       "1                            9,747  \n",
       "\n",
       "[2 rows x 35 columns]"
      ]
     },
     "execution_count": 58,
     "metadata": {},
     "output_type": "execute_result"
    }
   ],
   "source": [
    "df.head(2)"
   ]
  },
  {
   "cell_type": "code",
   "execution_count": 68,
   "id": "fab5ce56-3bb1-4b17-8ffd-b3a3b3085bf3",
   "metadata": {},
   "outputs": [],
   "source": [
    "total_visits = df.groupby(['UnitCode'])[\"RecreationVisits\"].sum()"
   ]
  },
  {
   "cell_type": "code",
   "execution_count": 70,
   "id": "45b5e50f-f0d6-4722-9273-e16b0d597c57",
   "metadata": {},
   "outputs": [
    {
     "data": {
      "text/plain": [
       "UnitCode\n",
       "ACAD    66139072\n",
       "ADAM     4155720\n",
       "AFBG      777570\n",
       "ALPO     3554237\n",
       "APCO     4420595\n",
       "Name: RecreationVisits, dtype: int64"
      ]
     },
     "execution_count": 70,
     "metadata": {},
     "output_type": "execute_result"
    }
   ],
   "source": [
    "total_visits.head()"
   ]
  },
  {
   "cell_type": "code",
   "execution_count": 72,
   "id": "1093efe5-9d31-4800-9318-36c9921e07d8",
   "metadata": {},
   "outputs": [
    {
     "data": {
      "text/plain": [
       "UnitCode\n",
       "UPDE     6209090\n",
       "VAFO    38848599\n",
       "VAMA     8893809\n",
       "WEFA      599668\n",
       "WORI      681957\n",
       "Name: RecreationVisits, dtype: int64"
      ]
     },
     "execution_count": 72,
     "metadata": {},
     "output_type": "execute_result"
    }
   ],
   "source": [
    "total_visits.tail()"
   ]
  },
  {
   "cell_type": "markdown",
   "id": "30ccc3f0-9981-4da7-af3e-92b4d56e4628",
   "metadata": {},
   "source": [
    "### Now we have a format we can join with the feature class in our map on the UnitCode field."
   ]
  },
  {
   "cell_type": "markdown",
   "id": "ef949918-24ff-40dd-9e9d-f697a0d2cc57",
   "metadata": {},
   "source": [
    "Write the resulting table to a new csv file:"
   ]
  },
  {
   "cell_type": "code",
   "execution_count": 80,
   "id": "41850a9f-7307-4c36-858c-bd01d5186b1b",
   "metadata": {},
   "outputs": [],
   "source": [
    "total_visits.to_csv(r\"C:\\Users\\brett\\OneDrive\\Documents\\ArcGIS\\Projects\\2024_NE_NationalParkLands_MostVisitedSince2000\\data sources\\total_visits_since2000_byPark.csv\")"
   ]
  },
  {
   "cell_type": "code",
   "execution_count": null,
   "id": "747a75b3-5a57-4c46-a495-9b0ad3ac613a",
   "metadata": {},
   "outputs": [],
   "source": []
  }
 ],
 "metadata": {
  "kernelspec": {
   "display_name": "Python 3 (ipykernel)",
   "language": "python",
   "name": "python3"
  },
  "language_info": {
   "codemirror_mode": {
    "name": "ipython",
    "version": 3
   },
   "file_extension": ".py",
   "mimetype": "text/x-python",
   "name": "python",
   "nbconvert_exporter": "python",
   "pygments_lexer": "ipython3",
   "version": "3.12.3"
  }
 },
 "nbformat": 4,
 "nbformat_minor": 5
}
