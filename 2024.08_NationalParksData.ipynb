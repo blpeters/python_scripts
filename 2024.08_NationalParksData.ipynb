{
 "cells": [
  {
   "cell_type": "markdown",
   "id": "012fc4d6-3cd2-4dde-91e2-061b33232161",
   "metadata": {},
   "source": [
    "### Looking to summarize the recreational visitors to all NPS lands in the northeast region since the year 2000."
   ]
  },
  {
   "cell_type": "markdown",
   "id": "2b417b42-9094-4e7b-8e33-a6c33ff6a4be",
   "metadata": {},
   "source": [
    "Start by importing the csv file I obtained from the NPS STATS website.\n",
    "\n",
    "It's a summary of all NPS lands and the visitor data since 2000."
   ]
  },
  {
   "cell_type": "code",
   "execution_count": 8,
   "id": "d19dbf46-20a1-4db6-9d08-31995e420084",
   "metadata": {},
   "outputs": [
    {
     "name": "stderr",
     "output_type": "stream",
     "text": [
      "C:\\Users\\brett\\AppData\\Local\\Temp\\ipykernel_11064\\2885002612.py:2: DtypeWarning: Columns (12,29) have mixed types. Specify dtype option on import or set low_memory=False.\n",
      "  df = pd.read_csv(r\"C:\\Users\\brett\\OneDrive\\Documents\\ArcGIS\\Projects\\2024_NE_NationalParkLands_MostVisitedSince2000\\data sources\\NPSLandsRecreationVisitsSince2000_NortheastRegion.csv\")\n"
     ]
    }
   ],
   "source": [
    "import pandas as pd\n",
    "df = pd.read_csv(r\"C:\\Users\\brett\\OneDrive\\Documents\\ArcGIS\\Projects\\2024_NE_NationalParkLands_MostVisitedSince2000\\data sources\\NPSLandsRecreationVisitsSince2000_NortheastRegion.csv\")"
   ]
  },
  {
   "cell_type": "code",
   "execution_count": null,
   "id": "d40034e9-8159-4841-9fd7-2d5304fb604b",
   "metadata": {},
   "outputs": [],
   "source": []
  }
 ],
 "metadata": {
  "kernelspec": {
   "display_name": "Python 3 (ipykernel)",
   "language": "python",
   "name": "python3"
  },
  "language_info": {
   "codemirror_mode": {
    "name": "ipython",
    "version": 3
   },
   "file_extension": ".py",
   "mimetype": "text/x-python",
   "name": "python",
   "nbconvert_exporter": "python",
   "pygments_lexer": "ipython3",
   "version": "3.12.3"
  }
 },
 "nbformat": 4,
 "nbformat_minor": 5
}
